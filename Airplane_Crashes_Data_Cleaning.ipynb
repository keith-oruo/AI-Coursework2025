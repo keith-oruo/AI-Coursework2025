{
 "cells": [
  {
   "cell_type": "code",
   "execution_count": null,
   "id": "828a2731",
   "metadata": {},
   "outputs": [],
   "source": [
    "import pandas as pd\n",
    "import seaborn as sns\n",
    "\n",
    "# Load the dataset\n",
    "df = pd.read_csv('airplane crashes.csv')\n",
    "\n",
    "# 2. Determine the number of rows and columns in the dataset\n",
    "num_rows, num_cols = df.shape\n",
    "print(f\"Number of rows: {num_rows}, Number of columns: {num_cols}\")\n",
    "\n",
    "# 3. Display the last 75 rows in the dataset\n",
    "print(df.tail(75))\n",
    "\n",
    "# 4. Methods for treating missing data in each column (except the first one)\n",
    "for col in df.columns[1:]:\n",
    "    num_missing = df[col].isnull().sum()\n",
    "    dtype = df[col].dtype\n",
    "    if dtype == 'object':\n",
    "        method = \"Impute with mode or 'Unknown'\"\n",
    "        justification = \"Categorical data; mode or a placeholder is appropriate.\"\n",
    "    else:\n",
    "        method = \"Impute with mean/median\"\n",
    "        justification = \"Numerical data; mean or median preserves distribution.\"\n",
    "    print(f\"Column: {col}, Missing: {num_missing}, Method: {method}, Justification: {justification}\")\n",
    "\n",
    "# 5. Create 'fatality_locations' dataframe\n",
    "fatality_locations = df[['Date', 'Location', 'Aboard', 'Fatalities']].copy()\n",
    "\n",
    "# 6. Date of the highest number of recorded fatalities\n",
    "max_fatalities_idx = fatality_locations['Fatalities'].idxmax()\n",
    "date_max_fatalities = fatality_locations.loc[max_fatalities_idx, 'Date']\n",
    "print(f\"Date with highest fatalities: {date_max_fatalities}\")\n",
    "\n",
    "# 7. Compare Aboard vs Fatalities, count crashes with zero fatalities\n",
    "zero_fatalities = fatality_locations[fatality_locations['Fatalities'] == 0]\n",
    "num_zero_fatalities = zero_fatalities.shape[0]\n",
    "print(f\"Number of crashes with zero fatalities: {num_zero_fatalities}\")\n",
    "\n",
    "# 8. Split 'Location' into 'Region' and 'State/Country'\n",
    "location_split = fatality_locations['Location'].str.split(',', n=1, expand=True)\n",
    "fatality_locations['Region'] = location_split[0]\n",
    "fatality_locations['State/Country'] = location_split[1].str.strip() if location_split.shape[1] > 1 else None\n",
    "\n",
    "# 9. Order by fatalities and select top 100\n",
    "top_100 = fatality_locations.sort_values(by='Fatalities', ascending=False).head(100)\n",
    "\n",
    "# 10. Pie chart of top 25 fatalities per country/state\n",
    "import matplotlib.pyplot as plt\n",
    "\n",
    "top_25 = fatality_locations.groupby('State/Country')['Fatalities'].sum().sort_values(ascending=False).head(25)\n",
    "plt.figure(figsize=(10, 10))\n",
    "top_25.plot.pie(autopct='%1.1f%%', startangle=140)\n",
    "plt.title('Top 25 Fatalities by Country/U.S. State')\n",
    "plt.ylabel('')\n",
    "plt.show()"
   ]
  },
  {
   "cell_type": "code",
   "execution_count": null,
   "id": "f326ae44",
   "metadata": {
    "vscode": {
     "languageId": "plaintext"
    }
   },
   "outputs": [],
   "source": []
  }
 ],
 "metadata": {
  "language_info": {
   "name": "python"
  }
 },
 "nbformat": 4,
 "nbformat_minor": 5
}
