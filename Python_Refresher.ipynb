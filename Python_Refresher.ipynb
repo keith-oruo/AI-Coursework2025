{
 "cells": [
  {
   "cell_type": "code",
   "execution_count": null,
   "id": "ecac5248",
   "metadata": {},
   "outputs": [],
   "source": [
    "# Question 1. \n",
    "# Ask the user for the number of days\n",
    "num_days = int(input(\"Enter the number of days: \"))\n",
    "# Calculate seconds (1 day = 24*60*60 seconds)\n",
    "seconds = num_days * 24 * 60 * 60\n",
    "# Display the result\n",
    "print(f\"There are {seconds} seconds in {num_days} days.\")"
   ]
  },
  {
   "cell_type": "code",
   "execution_count": null,
   "id": "66ff3b7c",
   "metadata": {},
   "outputs": [],
   "source": [
    "# Question 2. \n",
    "# Import the math module for pi\n",
    "import math\n",
    "# Ask the user for the radius\n",
    "radius = float(input(\"Enter the radius of the sphere: \"))\n",
    "# Calculate the volume using the formula (4/3) * pi * r^3\n",
    "volume = (4/3) * math.pi * (radius ** 3)\n",
    "# Display the result\n",
    "print(f\"The volume of the sphere with radius {radius} is {volume:,.2f}.\")"
   ]
  },
  {
   "cell_type": "code",
   "execution_count": null,
   "id": "91012dce",
   "metadata": {},
   "outputs": [],
   "source": [
    "# Question 3. \n",
    "# Define a function to calculate area\n",
    "def area_square(side):\n",
    "    return side * side\n",
    "# Define a function to calculate perimeter\n",
    "def perimeter_square(side):\n",
    "    return 4 * side\n",
    "# Ask the user for the side length\n",
    "side_length = float(input(\"Enter the side length of the square: \"))\n",
    "# Calculate area and perimeter\n",
    "area = area_square(side_length)\n",
    "perimeter = perimeter_square(side_length)\n",
    "# Display the results\n",
    "print(f\"Area: {area}\")\n",
    "print(f\"Perimeter: {perimeter}\")"
   ]
  },
  {
   "cell_type": "code",
   "execution_count": null,
   "id": "4a2bdf77",
   "metadata": {},
   "outputs": [],
   "source": [
    "# Question 4. \n",
    "# Define a function to check case\n",
    "def check_case(char):\n",
    "    if char.isupper():\n",
    "        print(\"The character is uppercase.\")\n",
    "    elif char.islower():\n",
    "        print(\"The character is lowercase.\")\n",
    "    else:\n",
    "        print(\"The character is not a letter.\")\n",
    "# Ask the user for a character\n",
    "user_char = input(\"Enter a single character: \")\n",
    "# Call the function\n",
    "check_case(user_char)"
   ]
  },
  {
   "cell_type": "code",
   "execution_count": null,
   "id": "9630d3ee",
   "metadata": {},
   "outputs": [],
   "source": [
    "# Question 5. \n",
    "# Initialize variables\n",
    "x = 0\n",
    "y = 20\n",
    "# Repeat the process until y is less than 6\n",
    "while y >= 6:\n",
    "    y = y - 4\n",
    "    x = x + 2 / y\n",
    "# Display the result\n",
    "print(f\"Final value of x: {x}\")"
   ]
  },
  {
   "cell_type": "code",
   "execution_count": null,
   "id": "81649f6c",
   "metadata": {},
   "outputs": [],
   "source": [
    "# Question 6. \n",
    "# Create an empty list to store values\n",
    "values = []\n",
    "# Loop to get 5 values from the user\n",
    "for i in range(5):\n",
    "    val = float(input(f\"Enter value {i+1}: \"))\n",
    "    values.append(val)\n",
    "# Calculate the average\n",
    "average = sum(values) / len(values)\n",
    "# Display the average\n",
    "print(f\"The average of the entered values is {average}\")"
   ]
  },
  {
   "cell_type": "code",
   "execution_count": null,
   "id": "004740c3",
   "metadata": {},
   "outputs": [],
   "source": []
  }
 ],
 "metadata": {
  "language_info": {
   "name": "python"
  }
 },
 "nbformat": 4,
 "nbformat_minor": 5
}
