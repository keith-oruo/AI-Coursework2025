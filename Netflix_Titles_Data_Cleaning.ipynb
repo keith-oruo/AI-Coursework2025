{
 "cells": [
  {
   "cell_type": "markdown",
   "id": "1f56afa0",
   "metadata": {},
   "source": [
    "**Netflix Titles Dataset Answers**\n",
    "\n",
    "1. **Rows and Columns:**  \n",
    "The dataset contains 8807 rows and 12 columns.\n",
    "\n",
    "2. **Datatypes:**  \n",
    "The columns contain the following datatypes:\n",
    "- show_id: object\n",
    "- type: object\n",
    "- title: object\n",
    "- director: object\n",
    "- cast: object\n",
    "- country: object\n",
    "- date_added: object\n",
    "- release_year: int64\n",
    "- rating: object\n",
    "- duration: object\n",
    "- listed_in: object\n",
    "- description: object\n",
    "\n",
    "3. **Missing Values:**  \n",
    "The dataset is not complete; there are missing values in columns such as director, cast, country, and date_added.\n",
    "\n",
    "4. **Movies and TV Shows in Last 20 Rows:**  \n",
    "Among the last 20 rows, there are 14 Movies and 6 TV Shows."
   ]
  }
 ],
 "metadata": {
  "language_info": {
   "name": "python"
  }
 },
 "nbformat": 4,
 "nbformat_minor": 5
}
